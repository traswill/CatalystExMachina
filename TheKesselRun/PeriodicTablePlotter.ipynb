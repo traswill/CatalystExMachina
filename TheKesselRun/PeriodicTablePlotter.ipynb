{
 "cells": [
  {
   "cell_type": "code",
   "execution_count": 6,
   "metadata": {},
   "outputs": [],
   "source": [
    "import matplotlib.pyplot as plt\n",
    "from bokeh.sampledata.periodic_table import elements"
   ]
  },
  {
   "cell_type": "markdown",
   "metadata": {},
   "source": [
    "Import and clean periodic data from bokeh"
   ]
  },
  {
   "cell_type": "code",
   "execution_count": 11,
   "metadata": {},
   "outputs": [],
   "source": [
    "periods = [\"I\", \"II\", \"III\", \"IV\", \"V\", \"VI\", \"VII\"]\n",
    "groups = [str(x) for x in range(1, 19)]\n",
    "\n",
    "df = elements.copy()\n",
    "df[\"atomic mass\"] = df[\"atomic mass\"].astype(str)\n",
    "df[\"group\"] = df[\"group\"].astype(str)\n",
    "df[\"period\"] = [periods[x-1] for x in df.period]\n",
    "df = df[df.group != \"-\"]\n",
    "df = df[df.symbol != \"Lr\"]\n",
    "df = df[df.symbol != \"Lu\"]"
   ]
  },
  {
   "cell_type": "markdown",
   "metadata": {},
   "source": [
    "Set up default color and allow for other colors to be input"
   ]
  },
  {
   "cell_type": "code",
   "execution_count": 19,
   "metadata": {},
   "outputs": [],
   "source": [
    "default_color = \"#eaeaea\"\n",
    "\n",
    "cmap = dict()\n",
    "blue_list = ['Ru', 'K']\n",
    "green_list = ['Mg','Ca','Sr','Sc','Y','Mn','Cu','Mo','Rh','Pd','Hf','W','Re','Ir','Pt','In','Bi']\n",
    "red_list = ['Ti','V','Cr','Fe','Co','Ni','Zn','Zr','Nb','Ag','Cd','Ta','Os','Au','Sn','Pb']\n",
    "\n",
    "for element_name in elements.symbol:  \n",
    "    if element_name in blue_list:\n",
    "        cmap[element_name] = \"#a6cee3\"\n",
    "    elif element_name in red_list:\n",
    "        cmap[element_name] = \"#d93b43\"\n",
    "    elif element_name in green_list:\n",
    "        cmap[element_name] = \"#599d7A\"\n",
    "    else:\n",
    "        cmap[element_name] = default_color"
   ]
  },
  {
   "cell_type": "markdown",
   "metadata": {},
   "source": [
    "Plot Figure"
   ]
  },
  {
   "cell_type": "code",
   "execution_count": 22,
   "metadata": {},
   "outputs": [],
   "source": [
    "p = figure(title=\"Periodic Table\", plot_width=1000, plot_height=450,\n",
    "           x_range=groups, y_range=list(reversed(periods)))\n",
    "\n",
    "p.rect(\"group\", \"period\", 0.95, 0.95, source=df, fill_alpha=0.6,\n",
    "       color=factor_cmap('symbol', palette=list(cmap.values()), factors=list(cmap.keys())))\n",
    "\n",
    "text_props = {\"source\": df, \"text_align\": \"left\", \"text_baseline\": \"middle\"}\n",
    "\n",
    "x = dodge(\"group\", -0.4, range=p.x_range)\n",
    "\n",
    "r = p.text(x=x, y=\"period\", text=\"symbol\", **text_props)\n",
    "r.glyph.text_font_style=\"bold\"\n",
    "\n",
    "r = p.text(x=x, y=dodge(\"period\", 0.3, range=p.y_range), text=\"atomic number\", **text_props)\n",
    "r.glyph.text_font_size=\"8pt\"\n",
    "\n",
    "r = p.text(x=x, y=dodge(\"period\", -0.35, range=p.y_range), text=\"name\", **text_props)\n",
    "r.glyph.text_font_size=\"5pt\"\n",
    "\n",
    "r = p.text(x=x, y=dodge(\"period\", -0.2, range=p.y_range), text=\"atomic mass\", **text_props)\n",
    "r.glyph.text_font_size=\"5pt\"\n",
    "\n",
    "p.text(x=[\"3\", \"3\"], y=[\"VI\", \"VII\"], text=[\"LA\", \"AC\"], text_align=\"center\", text_baseline=\"middle\")\n",
    "\n",
    "p.outline_line_color = None\n",
    "p.grid.grid_line_color = None\n",
    "p.axis.axis_line_color = None\n",
    "p.axis.major_tick_line_color = None\n",
    "p.axis.major_label_standoff = 0\n",
    "# p.legend.orientation = \"horizontal\"\n",
    "# p.legend.location =\"top_center\"\n",
    "\n",
    "show(p)"
   ]
  },
  {
   "cell_type": "code",
   "execution_count": null,
   "metadata": {},
   "outputs": [],
   "source": []
  }
 ],
 "metadata": {
  "kernelspec": {
   "display_name": "Python 3",
   "language": "python",
   "name": "python3"
  },
  "language_info": {
   "codemirror_mode": {
    "name": "ipython",
    "version": 3
   },
   "file_extension": ".py",
   "mimetype": "text/x-python",
   "name": "python",
   "nbconvert_exporter": "python",
   "pygments_lexer": "ipython3",
   "version": "3.6.5"
  }
 },
 "nbformat": 4,
 "nbformat_minor": 2
}
